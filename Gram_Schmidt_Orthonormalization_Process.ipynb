{
  "nbformat": 4,
  "nbformat_minor": 0,
  "metadata": {
    "colab": {
      "provenance": [],
      "authorship_tag": "ABX9TyMFGW2fTb2bPQmgn9nv+FlP",
      "include_colab_link": true
    },
    "kernelspec": {
      "name": "python3",
      "display_name": "Python 3"
    },
    "language_info": {
      "name": "python"
    }
  },
  "cells": [
    {
      "cell_type": "markdown",
      "metadata": {
        "id": "view-in-github",
        "colab_type": "text"
      },
      "source": [
        "<a href=\"https://colab.research.google.com/github/TrinitySeedorf01/Linear_Algebra_Coding_projects/blob/main/Gram_Schmidt_Orthonormalization_Process.ipynb\" target=\"_parent\"><img src=\"https://colab.research.google.com/assets/colab-badge.svg\" alt=\"Open In Colab\"/></a>"
      ]
    },
    {
      "cell_type": "markdown",
      "source": [
        "Include the standard libraries:"
      ],
      "metadata": {
        "id": "5_qixg930jgT"
      }
    },
    {
      "cell_type": "code",
      "source": [
        "import matplotlib.pyplot as plt\n",
        "from sympy import Poly\n",
        "import sympy as sym\n",
        "import numpy as np\n",
        "from numpy import c_\n",
        "\n",
        "# We'll specify that x and t are variables:\n",
        "x, t = sym.symbols('x, t')\n",
        "\n",
        "ll = \"loaded\""
      ],
      "metadata": {
        "id": "FE8ZlUjX07rc"
      },
      "execution_count": 1,
      "outputs": []
    },
    {
      "cell_type": "markdown",
      "source": [
        "To get help: Type np. A list of possibilities will appear.\n",
        "\n",
        "**Let's figure out how to do vector operations:**"
      ],
      "metadata": {
        "id": "tvsHynmY1FCb"
      }
    },
    {
      "cell_type": "code",
      "source": [
        "#create a vector\n",
        "r1=np.array([1,2,3])\n",
        "r1"
      ],
      "metadata": {
        "colab": {
          "base_uri": "https://localhost:8080/"
        },
        "id": "zB68xtDc1aWN",
        "outputId": "2ef1dfee-ce36-45ee-afe4-451b7fc8a846"
      },
      "execution_count": 2,
      "outputs": [
        {
          "output_type": "execute_result",
          "data": {
            "text/plain": [
              "array([1, 2, 3])"
            ]
          },
          "metadata": {},
          "execution_count": 2
        }
      ]
    },
    {
      "cell_type": "code",
      "source": [
        "#Vector arithmetic:\n",
        "-3 * r1"
      ],
      "metadata": {
        "colab": {
          "base_uri": "https://localhost:8080/"
        },
        "id": "6CI22gDW2jde",
        "outputId": "559a01fc-c268-45ae-8b85-93bd3ccb13ad"
      },
      "execution_count": 3,
      "outputs": [
        {
          "output_type": "execute_result",
          "data": {
            "text/plain": [
              "array([-3, -6, -9])"
            ]
          },
          "metadata": {},
          "execution_count": 3
        }
      ]
    },
    {
      "cell_type": "code",
      "source": [
        "#Dot Products:\n",
        "r1.dot(r1)"
      ],
      "metadata": {
        "colab": {
          "base_uri": "https://localhost:8080/"
        },
        "id": "vtyh5mlF2sZn",
        "outputId": "23ed31be-92e8-4b1c-baa9-332b3d446ad7"
      },
      "execution_count": 4,
      "outputs": [
        {
          "output_type": "execute_result",
          "data": {
            "text/plain": [
              "14"
            ]
          },
          "metadata": {},
          "execution_count": 4
        }
      ]
    },
    {
      "cell_type": "code",
      "source": [
        "#Magnitudes:\n",
        "r1.dot(r1)\n",
        "#Need the squareroot!\n",
        "14**0.5\n",
        "np.sqrt(r1.dot(r1))"
      ],
      "metadata": {
        "colab": {
          "base_uri": "https://localhost:8080/"
        },
        "id": "tpmpJTq_2798",
        "outputId": "8ace9b04-fe84-4201-bf4f-30c89dd4dcd8"
      },
      "execution_count": 5,
      "outputs": [
        {
          "output_type": "execute_result",
          "data": {
            "text/plain": [
              "3.7416573867739413"
            ]
          },
          "metadata": {},
          "execution_count": 5
        }
      ]
    },
    {
      "cell_type": "markdown",
      "source": [
        "Implement Gram Schmidt on 4 vectors."
      ],
      "metadata": {
        "id": "YzJGGKCE4DrY"
      }
    },
    {
      "cell_type": "code",
      "source": [
        "# Original, Random Vectors:\n",
        "r1 = np.array( [3, 0, 3, 0])\n",
        "r2 = np.array( [3, 2, 3, 3])\n",
        "r3 = np.array( [-7, -4, -5, -6])\n",
        "r4 = np.array( [-7, -3, -11, 2])\n",
        "print(\"The first random vector is:\", r1)\n",
        "print(\"The second random vector is:\", r2)\n",
        "print(\"The third random vector is:\", r3)\n",
        "print(\"The fourth random vector is:\", r4)"
      ],
      "metadata": {
        "colab": {
          "base_uri": "https://localhost:8080/"
        },
        "id": "UjRTqQBR4epa",
        "outputId": "f624b4a4-d2f7-4389-feb6-89c8d4f5c196"
      },
      "execution_count": 6,
      "outputs": [
        {
          "output_type": "stream",
          "name": "stdout",
          "text": [
            "The first random vector is: [3 0 3 0]\n",
            "The second random vector is: [3 2 3 3]\n",
            "The third random vector is: [-7 -4 -5 -6]\n",
            "The fourth random vector is: [ -7  -3 -11   2]\n"
          ]
        }
      ]
    },
    {
      "cell_type": "markdown",
      "source": [
        "Process $r_1$"
      ],
      "metadata": {
        "id": "X69rjrUr5rsw"
      }
    },
    {
      "cell_type": "code",
      "source": [
        "# Choose the r1 vector and subtract off the \"nice\" orthogonal pieces:\n",
        "t1 = r1\n",
        "print(\"t1 = \", t1)\n",
        "\n",
        "# Find the size of t1:\n",
        "m = np.sqrt(t1.dot(t1))\n",
        "print(\"the size of t1 = \", m)\n",
        "\n",
        "# The nice vector is u1 = t1/m:\n",
        "u1 = (1/m)*t1\n",
        "print(\"The nice vector is u1 = \", u1)"
      ],
      "metadata": {
        "colab": {
          "base_uri": "https://localhost:8080/"
        },
        "id": "pciKSCNL5xsp",
        "outputId": "0f5cde0a-d539-4c4a-e3ff-8f8464586b4b"
      },
      "execution_count": 7,
      "outputs": [
        {
          "output_type": "stream",
          "name": "stdout",
          "text": [
            "t1 =  [3 0 3 0]\n",
            "the size of t1 =  4.242640687119285\n",
            "The nice vector is u1 =  [0.70710678 0.         0.70710678 0.        ]\n"
          ]
        }
      ]
    },
    {
      "cell_type": "code",
      "source": [
        "# Sanity Check\n",
        "print(\"The size of u1 = \", np.sqrt(u1.dot(u1)))"
      ],
      "metadata": {
        "colab": {
          "base_uri": "https://localhost:8080/"
        },
        "id": "Z22z-1Ex7A2A",
        "outputId": "0340c183-4b74-4c24-bd6c-e76b168e3f38"
      },
      "execution_count": 8,
      "outputs": [
        {
          "output_type": "stream",
          "name": "stdout",
          "text": [
            "The size of u1 =  1.0\n"
          ]
        }
      ]
    },
    {
      "cell_type": "markdown",
      "source": [
        "Process $r_2$"
      ],
      "metadata": {
        "id": "4v-f0bRV63qB"
      }
    },
    {
      "cell_type": "code",
      "source": [
        "# Choose the r2 vector and subtract off the \"nice\" orthogonal pieces:\n",
        "t2 = r2 - r2.dot(u1) * u1\n",
        "print(\"t2 = \", t2)\n",
        "\n",
        "# Find the size of t2:\n",
        "m = np.sqrt(t2.dot(t2))\n",
        "print(\"the size of t2 = \", m)\n",
        "\n",
        "# The nice vector is u2 = t2/m:\n",
        "u2 = (1/m)*t2\n",
        "print(\"The nice vector is u2 = \", u2)\n",
        "\n",
        "# Sanity Check\n",
        "print(\"The size of u2 = \", np.sqrt(u2.dot(u2)))"
      ],
      "metadata": {
        "colab": {
          "base_uri": "https://localhost:8080/"
        },
        "id": "ojtBKggR66pi",
        "outputId": "17ba79d1-80a4-4ac6-a358-b595f3637c36"
      },
      "execution_count": 9,
      "outputs": [
        {
          "output_type": "stream",
          "name": "stdout",
          "text": [
            "t2 =  [-4.4408921e-16  2.0000000e+00 -4.4408921e-16  3.0000000e+00]\n",
            "the size of t2 =  3.605551275463989\n",
            "The nice vector is u2 =  [-1.23168186e-16  5.54700196e-01 -1.23168186e-16  8.32050294e-01]\n",
            "The size of u2 =  1.0\n"
          ]
        }
      ]
    },
    {
      "cell_type": "markdown",
      "source": [
        "Process $r_3$"
      ],
      "metadata": {
        "id": "fhY7XHSf8Tce"
      }
    },
    {
      "cell_type": "code",
      "source": [
        "# Choose the r3 vector and subtract off the \"nice\" orthogonal pieces:\n",
        "t3 = r3 - r3.dot(u1) * u1 - r3.dot(u2) * u2\n",
        "print(\"t3 = \", t3)\n",
        "\n",
        "# Find the size of t3:\n",
        "m = np.sqrt(t3.dot(t3))\n",
        "print(\"the size of t3 = \", m)\n",
        "\n",
        "# The nice vector is u3 = t3/m:\n",
        "u3 = (1/m)*t3\n",
        "print(\"The nice vector is u3 = \", u3)\n",
        "\n",
        "# Sanity Check\n",
        "print(\"The size of u3 = \", np.sqrt(u3.dot(u3)))"
      ],
      "metadata": {
        "colab": {
          "base_uri": "https://localhost:8080/"
        },
        "id": "NjSfDDLe8VpJ",
        "outputId": "5c500df6-5005-4fd8-c62c-89a19105e265"
      },
      "execution_count": 10,
      "outputs": [
        {
          "output_type": "stream",
          "name": "stdout",
          "text": [
            "t3 =  [-1.0000000e+00 -4.4408921e-16  1.0000000e+00 -8.8817842e-16]\n",
            "the size of t3 =  1.4142135623730951\n",
            "The nice vector is u3 =  [-7.07106781e-01 -3.14018492e-16  7.07106781e-01 -6.28036983e-16]\n",
            "The size of u3 =  0.9999999999999999\n"
          ]
        }
      ]
    },
    {
      "cell_type": "markdown",
      "source": [
        "Process $r_4$"
      ],
      "metadata": {
        "id": "jmr5NPuW8uiG"
      }
    },
    {
      "cell_type": "code",
      "source": [
        "# Choose the r4 vector and subtract off the \"nice\" orthogonal pieces:\n",
        "t4 = r4 - r4.dot(u1) * u1 - r4.dot(u2) * u2 - r4.dot(u3) * u3\n",
        "print(\"t4 = \", t4)\n",
        "\n",
        "# Find the size of t4:\n",
        "m = np.sqrt(t4.dot(t4))\n",
        "print(\"the size of t4 = \", m)\n",
        "\n",
        "# The nice vector is u4 = t4/m:\n",
        "u4 = (1/m)*t4\n",
        "print(\"The nice vector is u4 = \", u4)\n",
        "\n",
        "# Sanity Check\n",
        "print(\"The size of u4 = \", np.sqrt(u4.dot(u4)))"
      ],
      "metadata": {
        "colab": {
          "base_uri": "https://localhost:8080/"
        },
        "id": "O8RwrIN_8wf5",
        "outputId": "f9c2d322-ae23-421b-a659-816ad03c2c04"
      },
      "execution_count": 11,
      "outputs": [
        {
          "output_type": "stream",
          "name": "stdout",
          "text": [
            "t4 =  [ 0. -3.  0.  2.]\n",
            "the size of t4 =  3.605551275463989\n",
            "The nice vector is u4 =  [ 0.         -0.83205029  0.          0.5547002 ]\n",
            "The size of u4 =  1.0\n"
          ]
        }
      ]
    },
    {
      "cell_type": "markdown",
      "source": [
        "Dot Products"
      ],
      "metadata": {
        "id": "jIaeVLbL8ebv"
      }
    },
    {
      "cell_type": "code",
      "source": [
        "# Sanity check\n",
        "print(\"r1 = \", r1.dot(u1), \"u1 + \", r1.dot(u2), \"u2 + \", r1.dot(u3), \"u3 + \", r1.dot(u4))\n",
        "print(\"r2 = \", r2.dot(u1), \"u1 + \", r2.dot(u2), \"u2 + \", r2.dot(u3), \"u3 + \", r2.dot(u4))\n",
        "print(\"r3 = \", r3.dot(u1), \"u1 + \", r3.dot(u2), \"u2 + \", r3.dot(u3), \"u3 + \", r3.dot(u4))\n",
        "print(\"r4 = \", r4.dot(u1), \"u1 + \", r4.dot(u2), \"u2 + \", r4.dot(u3), \"u3 + \", r4.dot(u4))"
      ],
      "metadata": {
        "colab": {
          "base_uri": "https://localhost:8080/"
        },
        "id": "ghJDXjP48jvG",
        "outputId": "e26544b2-b7f5-4ac2-97e9-1cec8c14d1b7"
      },
      "execution_count": 21,
      "outputs": [
        {
          "output_type": "stream",
          "name": "stdout",
          "text": [
            "r1 =  4.242640687119286 u1 +  -7.390091155360101e-16 u2 +  0.0 u3 +  0.0\n",
            "r2 =  4.242640687119286 u1 +  3.6055512754639887 u2 +  -2.3282001602705925e-15 u3 +  -4.218847493575595e-15\n",
            "r3 =  -8.485281374238571 u1 +  -7.211102550927977 u2 +  1.4142135623730991 u3 +  8.43769498715119e-15\n",
            "r4 =  -12.727922061357855 u1 +  2.220446049250313e-15 u2 +  -2.8284271247461903 u3 +  3.6055512754639896\n"
          ]
        }
      ]
    },
    {
      "cell_type": "code",
      "source": [],
      "metadata": {
        "id": "5Xue1fL38zMJ"
      },
      "execution_count": null,
      "outputs": []
    }
  ]
}