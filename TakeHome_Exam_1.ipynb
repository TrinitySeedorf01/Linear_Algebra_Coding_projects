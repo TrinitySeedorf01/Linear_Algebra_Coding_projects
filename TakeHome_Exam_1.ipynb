{
  "nbformat": 4,
  "nbformat_minor": 0,
  "metadata": {
    "colab": {
      "provenance": [],
      "include_colab_link": true
    },
    "kernelspec": {
      "name": "python3",
      "display_name": "Python 3"
    }
  },
  "cells": [
    {
      "cell_type": "markdown",
      "metadata": {
        "id": "view-in-github",
        "colab_type": "text"
      },
      "source": [
        "<a href=\"https://colab.research.google.com/github/TrinitySeedorf01/Linear_Algebra_Coding_projects/blob/main/TakeHome_Exam_1.ipynb\" target=\"_parent\"><img src=\"https://colab.research.google.com/assets/colab-badge.svg\" alt=\"Open In Colab\"/></a>"
      ]
    },
    {
      "cell_type": "markdown",
      "metadata": {
        "id": "dYZCqThDj-mJ"
      },
      "source": [
        "#Initialize the preliminary code:\n"
      ]
    },
    {
      "cell_type": "code",
      "metadata": {
        "id": "OCPrJ_6ij5LN"
      },
      "source": [
        "import numpy as np\n",
        "from numpy import c_\n",
        "\n",
        "ll = \"loaded\""
      ],
      "execution_count": 1,
      "outputs": []
    },
    {
      "cell_type": "code",
      "metadata": {
        "id": "KuK9BE7lkGBu",
        "colab": {
          "base_uri": "https://localhost:8080/",
          "height": 0
        },
        "outputId": "11fd42cf-40f4-4599-edee-5fb3fb4cf7da"
      },
      "source": [
        "# create the matrix M:\n",
        "M = np.matrix([[0.4, 0.5, 0.2, 0],\n",
        "               [0.3, 0, 0.4, 0],\n",
        "               [0.3, 0, 0.4, 0],\n",
        "               [0, 0.5, 0, 1]])\n",
        "M"
      ],
      "execution_count": 2,
      "outputs": [
        {
          "output_type": "execute_result",
          "data": {
            "text/plain": [
              "matrix([[0.4, 0.5, 0.2, 0. ],\n",
              "        [0.3, 0. , 0.4, 0. ],\n",
              "        [0.3, 0. , 0.4, 0. ],\n",
              "        [0. , 0.5, 0. , 1. ]])"
            ]
          },
          "metadata": {},
          "execution_count": 2
        }
      ]
    },
    {
      "cell_type": "code",
      "metadata": {
        "id": "jF42al7mnDl5",
        "colab": {
          "base_uri": "https://localhost:8080/",
          "height": 0
        },
        "outputId": "5b5529eb-f612-4f16-d357-599831fdf249"
      },
      "source": [
        "x0 = np.matrix([[100], [200], [0], [0]])\n",
        "x0"
      ],
      "execution_count": 3,
      "outputs": [
        {
          "output_type": "execute_result",
          "data": {
            "text/plain": [
              "matrix([[100],\n",
              "        [200],\n",
              "        [  0],\n",
              "        [  0]])"
            ]
          },
          "metadata": {},
          "execution_count": 3
        }
      ]
    },
    {
      "cell_type": "code",
      "metadata": {
        "id": "nPrS-I0FnEG4",
        "colab": {
          "base_uri": "https://localhost:8080/",
          "height": 0
        },
        "outputId": "af50dde4-713a-4bdb-e644-6f3348ba36e4"
      },
      "source": [
        "M*x0\n"
      ],
      "execution_count": 4,
      "outputs": [
        {
          "output_type": "execute_result",
          "data": {
            "text/plain": [
              "matrix([[140.],\n",
              "        [ 30.],\n",
              "        [ 30.],\n",
              "        [100.]])"
            ]
          },
          "metadata": {},
          "execution_count": 4
        }
      ]
    },
    {
      "cell_type": "code",
      "source": [
        "x1=M*x0\n",
        "x2=M*x1\n",
        "(M**3)*x0"
      ],
      "metadata": {
        "colab": {
          "base_uri": "https://localhost:8080/",
          "height": 0
        },
        "id": "AZqvA4Vfb0u0",
        "outputId": "f7539cc3-f6f3-4ffe-832f-9ed8ceeddea4"
      },
      "execution_count": 5,
      "outputs": [
        {
          "output_type": "execute_result",
          "data": {
            "text/plain": [
              "matrix([[ 68.6],\n",
              "        [ 44.7],\n",
              "        [ 44.7],\n",
              "        [142. ]])"
            ]
          },
          "metadata": {},
          "execution_count": 5
        }
      ]
    },
    {
      "cell_type": "code",
      "metadata": {
        "id": "_ZYXMv4aqYmN",
        "colab": {
          "base_uri": "https://localhost:8080/",
          "height": 0
        },
        "outputId": "ffca27dd-a2a9-4345-c3d4-51e370c8dd8b"
      },
      "source": [
        "#  The initial state of the system:\n",
        "x0 = np.matrix([[100], [200], [0], [0]])\n",
        "\n",
        "#Make a matrix, where each column is the result \n",
        "#of applying the matrix multiple times to the initial state x0:\n",
        "\n",
        "X = np.c_[x0, M*x0, M**2 * x0, M**3 * x0, M**4 * x0, M**5 * x0, M**10 * x0, M**20 * x0, M**240 * x0]\n",
        "\n",
        "#print out the X matrix, rounding the entries to 2 decimal places\n",
        "print(X.round(2))\n"
      ],
      "execution_count": 9,
      "outputs": [
        {
          "output_type": "stream",
          "name": "stdout",
          "text": [
            "[[100.   140.    77.    68.6   58.73  50.41  23.48   5.09   0.  ]\n",
            " [200.    30.    54.    44.7   38.46  33.    15.37   3.33   0.  ]\n",
            " [  0.    30.    54.    44.7   38.46  33.    15.37   3.33   0.  ]\n",
            " [  0.   100.   115.   142.   164.35 183.58 245.79 288.24 300.  ]]\n"
          ]
        }
      ]
    },
    {
      "cell_type": "code",
      "metadata": {
        "id": "70AzXmN8qZoM",
        "colab": {
          "base_uri": "https://localhost:8080/",
          "height": 295
        },
        "outputId": "8a6bb5be-c6f9-4e12-9e6e-a9becaa680e6"
      },
      "source": [
        "import matplotlib.pyplot as plt\n",
        " \n",
        "x  = [0, 1, 2, 3, 4, 5, 10, 20, 240]\n",
        "plt.plot(x, np.array(X[0])[0], label=\"A\")\n",
        "plt.plot(x, np.array(X[1])[0], label=\"B\")\n",
        "plt.plot(x, np.array(X[2])[0], label=\"C\")\n",
        "plt.plot(x, np.array(X[3])[0], label=\"D\")\n",
        "plt.plot()\n",
        "\n",
        "plt.xlabel(\"Time\")  \n",
        "plt.ylabel(\"Amount\")  \n",
        "plt.title(\"Drug in Organs\")  \n",
        "plt.legend()\n",
        "plt.show()"
      ],
      "execution_count": 13,
      "outputs": [
        {
          "output_type": "display_data",
          "data": {
            "text/plain": [
              "<Figure size 432x288 with 1 Axes>"
            ],
            "image/png": "[encoded data removed]"
          },
          "metadata": {
            "needs_background": "light"
          }
        }
      ]
    }
  ]
}