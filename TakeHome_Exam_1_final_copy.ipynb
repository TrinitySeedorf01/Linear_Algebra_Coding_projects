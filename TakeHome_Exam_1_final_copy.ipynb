{
  "nbformat": 4,
  "nbformat_minor": 0,
  "metadata": {
    "colab": {
      "provenance": [],
      "include_colab_link": true
    },
    "kernelspec": {
      "name": "python3",
      "display_name": "Python 3"
    }
  },
  "cells": [
    {
      "cell_type": "markdown",
      "metadata": {
        "id": "view-in-github",
        "colab_type": "text"
      },
      "source": [
        "<a href=\"https://colab.research.google.com/github/TrinitySeedorf01/Linear_Algebra_Coding_projects/blob/main/TakeHome_Exam_1_final_copy.ipynb\" target=\"_parent\"><img src=\"https://colab.research.google.com/assets/colab-badge.svg\" alt=\"Open In Colab\"/></a>"
      ]
    },
    {
      "cell_type": "markdown",
      "metadata": {
        "id": "dYZCqThDj-mJ"
      },
      "source": [
        "#Initialize the preliminary code:\n"
      ]
    },
    {
      "cell_type": "code",
      "metadata": {
        "id": "OCPrJ_6ij5LN"
      },
      "source": [
        "import numpy as np\n",
        "from numpy import c_\n",
        "\n",
        "ll = \"loaded\""
      ],
      "execution_count": 1,
      "outputs": []
    },
    {
      "cell_type": "code",
      "metadata": {
        "id": "KuK9BE7lkGBu",
        "colab": {
          "base_uri": "https://localhost:8080/"
        },
        "outputId": "d2b5e304-6441-4bb2-ccb7-5eab3f406134"
      },
      "source": [
        "# create the matrix M:\n",
        "M = np.matrix([[0.4, 0.5, 0.2, 0],\n",
        "               [0.3, 0, 0.4, 0],\n",
        "               [0.3, 0, 0.4, 0],\n",
        "               [0, 0.5, 0, 1]])\n",
        "M"
      ],
      "execution_count": 2,
      "outputs": [
        {
          "output_type": "execute_result",
          "data": {
            "text/plain": [
              "matrix([[0.4, 0.5, 0.2, 0. ],\n",
              "        [0.3, 0. , 0.4, 0. ],\n",
              "        [0.3, 0. , 0.4, 0. ],\n",
              "        [0. , 0.5, 0. , 1. ]])"
            ]
          },
          "metadata": {},
          "execution_count": 2
        }
      ]
    },
    {
      "cell_type": "code",
      "metadata": {
        "id": "jF42al7mnDl5",
        "colab": {
          "base_uri": "https://localhost:8080/"
        },
        "outputId": "97d96feb-3d5b-4005-b48f-77786cf9d570"
      },
      "source": [
        "x0 = np.matrix([[100], [200], [0], [0]])\n",
        "x0"
      ],
      "execution_count": 3,
      "outputs": [
        {
          "output_type": "execute_result",
          "data": {
            "text/plain": [
              "matrix([[100],\n",
              "        [200],\n",
              "        [  0],\n",
              "        [  0]])"
            ]
          },
          "metadata": {},
          "execution_count": 3
        }
      ]
    },
    {
      "cell_type": "code",
      "metadata": {
        "id": "nPrS-I0FnEG4",
        "colab": {
          "base_uri": "https://localhost:8080/"
        },
        "outputId": "c1bb7a6f-75a5-4421-c480-7b5193da917c"
      },
      "source": [
        "M*x0\n"
      ],
      "execution_count": 4,
      "outputs": [
        {
          "output_type": "execute_result",
          "data": {
            "text/plain": [
              "matrix([[140.],\n",
              "        [ 30.],\n",
              "        [ 30.],\n",
              "        [100.]])"
            ]
          },
          "metadata": {},
          "execution_count": 4
        }
      ]
    },
    {
      "cell_type": "code",
      "source": [
        "x1=M*x0\n",
        "x2=M*x1\n",
        "(M**3)*x0"
      ],
      "metadata": {
        "colab": {
          "base_uri": "https://localhost:8080/"
        },
        "id": "AZqvA4Vfb0u0",
        "outputId": "01aa3a01-8279-4505-d632-b6c7302bdd19"
      },
      "execution_count": 5,
      "outputs": [
        {
          "output_type": "execute_result",
          "data": {
            "text/plain": [
              "matrix([[ 68.6],\n",
              "        [ 44.7],\n",
              "        [ 44.7],\n",
              "        [142. ]])"
            ]
          },
          "metadata": {},
          "execution_count": 5
        }
      ]
    },
    {
      "cell_type": "code",
      "metadata": {
        "id": "_ZYXMv4aqYmN",
        "colab": {
          "base_uri": "https://localhost:8080/"
        },
        "outputId": "be25d743-33a7-4d38-f26b-1ca202efcf70"
      },
      "source": [
        "#  The initial state of the system:\n",
        "x0 = np.matrix([[100], [200], [0], [0]])\n",
        "\n",
        "#Make a matrix, where each column is the result \n",
        "#of applying the matrix multiple times to the initial state x0:\n",
        "\n",
        "X = np.c_[x0, M*x0, M**2 * x0, M**3 * x0, M**4 * x0, M**5 * x0, M**10 * x0, M**20 * x0, M**48 * x0]\n",
        "\n",
        "#print out the X matrix, rounding the entries to 2 decimal places\n",
        "print(X.round(2))\n",
        "M**48 * x0\n"
      ],
      "execution_count": 23,
      "outputs": [
        {
          "output_type": "stream",
          "name": "stdout",
          "text": [
            "[[1.0000e+02 1.4000e+02 7.7000e+01 6.8600e+01 5.8730e+01 5.0410e+01\n",
            "  2.3480e+01 5.0900e+00 7.0000e-02]\n",
            " [2.0000e+02 3.0000e+01 5.4000e+01 4.4700e+01 3.8460e+01 3.3000e+01\n",
            "  1.5370e+01 3.3300e+00 5.0000e-02]\n",
            " [0.0000e+00 3.0000e+01 5.4000e+01 4.4700e+01 3.8460e+01 3.3000e+01\n",
            "  1.5370e+01 3.3300e+00 5.0000e-02]\n",
            " [0.0000e+00 1.0000e+02 1.1500e+02 1.4200e+02 1.6435e+02 1.8358e+02\n",
            "  2.4579e+02 2.8824e+02 2.9984e+02]]\n"
          ]
        },
        {
          "output_type": "execute_result",
          "data": {
            "text/plain": [
              "matrix([[7.04863641e-02],\n",
              "        [4.61441570e-02],\n",
              "        [4.61441570e-02],\n",
              "        [2.99837225e+02]])"
            ]
          },
          "metadata": {},
          "execution_count": 23
        }
      ]
    },
    {
      "cell_type": "code",
      "metadata": {
        "id": "70AzXmN8qZoM",
        "colab": {
          "base_uri": "https://localhost:8080/",
          "height": 295
        },
        "outputId": "68565cf8-cba9-4721-db39-3f923ac384f2"
      },
      "source": [
        "import matplotlib.pyplot as plt\n",
        " \n",
        "x  = [0, 1, 2, 3, 4, 5, 10, 20, 48]\n",
        "plt.plot(x, np.array(X[0])[0], label=\"A\")\n",
        "plt.plot(x, np.array(X[1])[0], label=\"B\")\n",
        "plt.plot(x, np.array(X[2])[0], label=\"C\")\n",
        "plt.plot(x, np.array(X[3])[0], label=\"D\")\n",
        "plt.plot()\n",
        "\n",
        "plt.xlabel(\"Time\")  \n",
        "plt.ylabel(\"Amount\")  \n",
        "plt.title(\"Drug in Organs\")  \n",
        "plt.legend()\n",
        "plt.show()"
      ],
      "execution_count": 20,
      "outputs": [
        {
          "output_type": "display_data",
          "data": {
            "text/plain": [
              "<Figure size 432x288 with 1 Axes>"
            ],
            "image/png": "[encoded data removed]"
          },
          "metadata": {
            "needs_background": "light"
          }
        }
      ]
    }
  ]
}